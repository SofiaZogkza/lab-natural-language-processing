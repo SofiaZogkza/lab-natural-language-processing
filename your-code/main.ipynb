{
 "cells": [
  {
   "cell_type": "code",
   "execution_count": 3,
   "metadata": {},
   "outputs": [
    {
     "data": {
      "text/html": [
       "<style>.container { width:100% !important; }</style>"
      ],
      "text/plain": [
       "<IPython.core.display.HTML object>"
      ]
     },
     "metadata": {},
     "output_type": "display_data"
    }
   ],
   "source": [
    "from IPython.display import display, HTML\n",
    "display(HTML(\"<style>.container { width:100% !important; }</style>\"))"
   ]
  },
  {
   "cell_type": "markdown",
   "metadata": {},
   "source": [
    "# Lab | Natural Language Processing\n",
    "### SMS: SPAM or HAM"
   ]
  },
  {
   "cell_type": "markdown",
   "metadata": {},
   "source": [
    "### Classifying SMS/emails as SPAM (scam) or HAM (legit)\n",
    "\n",
    "By Sofia"
   ]
  },
  {
   "cell_type": "markdown",
   "metadata": {},
   "source": [
    "### Let's prepare the environment"
   ]
  },
  {
   "cell_type": "code",
   "execution_count": 4,
   "metadata": {},
   "outputs": [],
   "source": [
    "import pandas as pd\n",
    "import matplotlib.pyplot as plt\n",
    "from sklearn.feature_extraction.text import TfidfVectorizer"
   ]
  },
  {
   "cell_type": "markdown",
   "metadata": {},
   "source": [
    "- Read Data for the Fraudulent Email Kaggle Challenge\n",
    "- Reduce the training set to speead up development. "
   ]
  },
  {
   "cell_type": "code",
   "execution_count": 5,
   "metadata": {},
   "outputs": [
    {
     "name": "stdout",
     "output_type": "stream",
     "text": [
      "                                                  text  label\n",
      "0    DEAR SIR, STRICTLY A PRIVATE BUSINESS PROPOSAL...      1\n",
      "1                                             Will do.      0\n",
      "2    Nora--Cheryl has emailed dozens of memos about...      0\n",
      "3    Dear Sir=2FMadam=2C I know that this proposal ...      1\n",
      "4                                                  fyi      0\n",
      "..                                                 ...    ...\n",
      "995  So what's the latest? It sounds contradictory ...      0\n",
      "996  TRANSFER OF 36,759,000.00 MILLION POUNDS TO YO...      1\n",
      "997  Barb I will call to explain. Are you back in t...      0\n",
      "998    Yang on travelNot free tonite.May work tomorrow      0\n",
      "999  sbwhoeopSunday February 21 2010 7:42 PMHShaunH...      0\n",
      "\n",
      "[1000 rows x 2 columns]\n",
      "(1000, 2)\n",
      "Columns:  Index(['text', 'label'], dtype='object')\n",
      "Legit like email: DEAR SIR, STRICTLY A PRIVATE BUSINESS PROPOSAL I AM MIKE CHUKWU , THE MANAGER, BILLS AND EXCHANGE AT THE FOREIGN REMITTANCE DEPARTMENT OF THE ZENITH INTERNATIONAL BANK PLC. I AM WRITING THIS LETTER TO ASK FOR YOUR SUPPORT AND COOPERATION TO CARRY OUT THIS BUSINESS OPPORTUNITY IN MY DEPARTMENT. WE DISCOVERED AN ABANDONED SUM OF $15,000,000.00 (FIFTEEN MILLION UNITED STATES DOLLARS ONLY) IN AN ACCOUNT THAT BELONGS TO ONE OF OUR FOREIGN CUSTOMERS WHO DIED ALONG WITH HIS ENTIRE FAMILY OF A WIFE AND TWO CHILDREN IN NOVEMBER 1997 IN A PLANE CRASH. SINCE WE HEARD OF HIS DEATH, WE HAVE BEEN EXPECTING HIS NEXT-OF-KIN TO COME OVER AND PUT CLAIMS FOR HIS MONEY AS THE HEIR,BECAUSE WE CANNOT RELEASE THE FUND FROM HIS ACCOUNT UNLESS SOMEONE APPLIES FOR CLAIM AS THE NEXT-OF-KIN TO THE DECEASED AS INDICATED IN OUR BANKING GUIDELINES. UNFORTUNATELY, NEITHER THEIR FAMILY MEMBER NOR DISTANT RELATIVE HAS EVER APPEARED TO CLAIM THE SAID FUND. UPON THIS DISCOVERY,I AND OTHER OFFICIALS IN MY DEPARTMENT HAVE AGREED TO MAKE BUSINESS WITH YOU AND RELEASE THE TOTAL AMOUNT INTO YOUR ACCOUNT AS THE HEIR OF THE FUND SINCE NO ONE CAME FOR IT OR DISCOVERED HE MAINTAINED ACCOUNT WITH OUR BANK, OTHERWISE THE FUND WILL BE RETURNED TO THE BANKS TREASURY AS UNCLAIMED FUND. WE HAVE AGREED THAT OUR RATIO OF SHARING WILL BE AS STATED THUS; 30 % FOR YOU AS FOREIGN PARTNER, 60 % FOR US THE OFFICIALS IN MY DEPARTMENT AND 10% FOR THE SETTLEMENT OF ALL LOCAL AND FOREIGN EXPENCES INCURRED BY US AND YOU DURING THE COURSE OF THIS BUSINESS. UPON THE SUCCESSFUL COMPLETION OF THIS TRANSFER, I AND ONE OF MY COLLEAGUES WILL COME TO YOUR COUNTRY AND MIND OUR SHARE. IT IS FROM OUR 60 % WE INTEND TO IMPORT AGRICULTURAL MACHINERIES INTO MY COUNTRY AS A WAY OF RECYCLING THE FUND. TO COMMENCE THIS TRANSACTION, WE REQUIRE YOU TO IMMEDIATELY INDICATE YOUR INTEREST BY A RETURN E-MAIL AND ENCLOSE YOUR PRIVATE CONTACT TELEPHONE NUMBER, FAX NUMBER FULL NAME AND ADDRESS AND YOUR DESIGNATED BANK COORDINATES TO ENABLE US FILE LETTER OF CLAIM TO THE APPROPRIATE DEPARTMENTS FOR NECESSARY APPROVALS BEFORE THE TRANSFER CAN BE MADE. NOTE ALSO, THIS TRANSACTION MUST BE KEPT STRICTLY CONFIDENTIAL BECAUSE OF IT'S NATURE. I LOOK FORWARD TO RECEIVING YOUR PROMPT RESPONSE. REGARDS, MR. MIKE CHUKWU ZENITH INTERNATIONAL BANK PLC . \n",
      "Scam like email : Compliment, How are you doing today, Hope you have not forgotten me? I am Dr.Mr MichaelHoward,the man from Nigeria who contacted you some time ago to assist mesecure the release of some money accrued from the over Invoicing of a contract/inheritancethat was awarded by my (Government) some time ago during the military regime.Though you were not able to assist me conclude the transaction, I'm happyto inform you about my success in getting those funds transfered under theassistance and co-operation of a new partner from Brazil.Presently I'm inNetherlands for investment projects with my own share of the total sum. meanwhile, i didn't forget your past efforts and attempts to assist me intransferring those funds, I made sure you are not left out the benefit ofthe transaction hence I kept aside for you the sum of five Hundred ThousandUnited States Dollars.($500,000.00)Draft, the compensation also go for thegood work of God meaning for the orphans and disable in your country Pleasetake good care of them and the poor in needs also. I and my new partner agreed to compensate you with that amount for all yourpast efforts and attempts to assist me in this matter. I appreciate yourefforts at that time very much,so feel free and get in touch with my secretaryMr.Steven Chapman and instruct him on how to send the Bank draft to you.Please do let me know immediately you receive the Draft so that we can sharethe joy together after all the sufferings at that time. In the moment, I'mvery busy here because of the investment projects which me and my partnerare having at hands, finally,remember that i had left instruction to my secretaryso as soon as you contact him, he will send the Draft to you,so feel freeto get in touch with MY SECRETARY NOW. \n"
     ]
    }
   ],
   "source": [
    "## Read Data for the Fraudulent Email Kaggle Challenge\n",
    "data = pd.read_csv(\"/Users/sofiazogkza/repos/Ironhack/Ironhack Lab/Week 4/D3/lab-natural-language-processing/data/kg_train.csv\",encoding='latin-1')\n",
    "\n",
    "# Reduce the training set to speed up development. \n",
    "# Modify for final system\n",
    "data = data.head(1000)\n",
    "print(data)\n",
    "print(data.shape)\n",
    "data.fillna(\"\",inplace=True)\n",
    "print(\"Columns: \",data.columns) # prints: Columns:  Index(['text'], dtype='object') so it has only 1 column\n",
    "print(\"Legit like email:\", data[\"text\"][0])\n",
    "print(\"Scam like email :\",data[\"text\"][12])"
   ]
  },
  {
   "cell_type": "markdown",
   "metadata": {},
   "source": [
    "### 🔹 What I notice\n",
    "\n",
    "- **Columns:** `text` and `label`\n",
    "\n",
    "- **Content:**  \n",
    "  - `text` : the full email content (some are long, some short, some scam-like)  \n",
    "  - `label` : `1` for fraudulent/scam emails, `0` for legitimate emails\n",
    "\n",
    "- **Number of rows:** 1000 (reduced for development)\n",
    "\n",
    "- **Missing values:** none (`fillna(\"\")` was used to handle them)\n",
    "\n",
    "- **Example of a positive label (`1`) email:**  \n",
    "\n",
    "> DEAR SIR, STRICTLY A PRIVATE BUSINESS PROPOSAL I AM MIKE CHUKWU …\n",
    "\n"
   ]
  },
  {
   "cell_type": "markdown",
   "metadata": {},
   "source": [
    "### Let's divide the training and test set into two partitions"
   ]
  },
  {
   "cell_type": "code",
   "execution_count": 6,
   "metadata": {},
   "outputs": [
    {
     "name": "stdout",
     "output_type": "stream",
     "text": [
      "Training set size     : 800\n",
      "Test set size         : 200\n",
      "Example training email:\n",
      " Dear=2C Good day hope fine=2Cdear am writting this mail with due respect and heartful of tears since we have not known or met ourselves previously I am asking for your assistance=2Ci have will be very glad if you can render me assistance to my situation now=2E I will make my proposal well known if I am given the opportunity=2E I would like to use this opportunity to introduce myself to you=2E Am Miss Johana Johnpaul 24 years old girl from Liberia =2Cthe only daughter of Late Godwin Johnpaul the deputy minister of national security under the leadership of president Charles Taylor of liberia who is now in exile after many innocent soul were killed=2E My father was killed by the government of CharlesTaylor=2Cheaccuse my father of coup attempt and after a month my mother Cynthia was also killed=2E The main reason why I am contacting you now is to seek for your assistance in the area of my future investment and also i want to hand over some huge amount of money to you=2E This money is Ten Millon Five Hundred Thousand US Dollars which was deposited some years ago by my father he made me the sole beneficiary=2Fnext of kin to the money=2E I am now asking you to stand on my behalf to make this claim for the bank=2Cam a girl and too young in age cann't handle this can of transaction=2Ci want you to stand as my foregin partner oversea and also to help me investment the money as well send me your telephone number and pictures ok=2E=2E=2E=2E I have all original copies of the documents concering this money with me here=2CSo please am expecting to hear from you soon=2E My Regards=2C Miss Johana   \n",
      "Example training label: 1\n"
     ]
    }
   ],
   "source": [
    "from sklearn.model_selection import train_test_split\n",
    "\n",
    "X = data['text']      # emails\n",
    "y = data['label']     # labels\n",
    "\n",
    "X_train, X_test, y_train, y_test = train_test_split(\n",
    "    X, y, test_size=0.2, random_state=42, stratify=y # Using stratify=y ensures the proportion of fraud/non-fraud emails is maintained in both sets.\n",
    ")\n",
    "\n",
    "print(\"Training set size     :\", len(X_train))\n",
    "print(\"Test set size         :\", len(X_test))\n",
    "print(\"Example training email:\\n\", X_train.iloc[0]) # 1st row\n",
    "# print(\"Example training email:\\n\", X_train.values[0]) 1st row value\n",
    "print(\"Example training label:\", y_train.iloc[0])"
   ]
  },
  {
   "cell_type": "markdown",
   "metadata": {},
   "source": [
    "## Data Preprocessing"
   ]
  },
  {
   "cell_type": "code",
   "execution_count": 8,
   "metadata": {},
   "outputs": [
    {
     "name": "stdout",
     "output_type": "stream",
     "text": [
      "Punctuation   :  !\"#$%&'()*+,-./:;<=>?@[\\]^_`{|}~\n",
      "stopwords engl:  ['needn', \"needn't\", 'no', 'nor', 'not', 'now', 'o', 'of', 'off', 'on']\n"
     ]
    }
   ],
   "source": [
    "import string\n",
    "from nltk.corpus import stopwords\n",
    "\n",
    "print(\"Punctuation   : \",string.punctuation)\n",
    "print(\"stopwords engl: \",stopwords.words(\"english\")[100:110])\n",
    "\n",
    "from nltk.stem.snowball import SnowballStemmer\n",
    "snowball = SnowballStemmer('english')"
   ]
  },
  {
   "cell_type": "markdown",
   "metadata": {},
   "source": [
    "## Now, we have to clean the html code removing words\n",
    "\n",
    "- First we remove inline JavaScript/CSS\n",
    "- Then we remove html comments. This has to be done before removing regular tags since comments can contain '>' characters\n",
    "- Next we can remove the remaining tags"
   ]
  },
  {
   "cell_type": "code",
   "execution_count": 9,
   "metadata": {},
   "outputs": [
    {
     "name": "stdout",
     "output_type": "stream",
     "text": [
      "DEAR SIR, STRICTLY A PRIVATE BUSINESS PROPOSAL I AM MIKE CHUKWU , THE MANAGER, BILLS AND EXCHANGE AT THE FOREIGN REMITTANCE DEPARTMENT OF THE ZENITH INTERNATIONAL BANK PLC. I AM WRITING THIS LETTER TO ASK FOR YOUR SUPPORT AND COOPERATION TO CARRY OUT THIS BUSINESS OPPORTUNITY IN MY DEPARTMENT. WE DI\n"
     ]
    }
   ],
   "source": [
    "# Your code\n",
    "def clean_email_from_html_code(text):\n",
    "    # Remove common HTML tags\n",
    "    text = text.replace(\"<br>\", \" \").replace(\"<BR>\", \" \")\n",
    "    text = text.replace(\"<p>\", \" \").replace(\"</p>\", \" \")\n",
    "    \n",
    "    # Remove HTML comments (very basic)\n",
    "    text = text.replace(\"<!--\", \" \").replace(\"-->\", \" \")\n",
    "    \n",
    "    # Remove extra spaces\n",
    "    text = \" \".join(text.split())\n",
    "    \n",
    "    return text\n",
    "\n",
    "# Example usage\n",
    "sample_email = data['text'][0]\n",
    "cleaned_email = clean_email_from_html_code(sample_email)\n",
    "print(cleaned_email[:300])  # preview first 300 chars"
   ]
  },
  {
   "cell_type": "markdown",
   "metadata": {},
   "source": [
    "- Remove all the special characters\n",
    "    \n",
    "- Remove numbers\n",
    "    \n",
    "- Remove all single characters\n",
    " \n",
    "- Remove single characters from the start\n",
    "\n",
    "- Substitute multiple spaces with single space\n",
    "\n",
    "- Remove prefixed 'b'\n",
    "\n",
    "- Convert to Lowercase"
   ]
  },
  {
   "cell_type": "code",
   "execution_count": 10,
   "metadata": {},
   "outputs": [
    {
     "name": "stdout",
     "output_type": "stream",
     "text": [
      "Original email:\n",
      " Dear=2C Good day hope fine=2Cdear am writting this mail with due respect and heartful of tears since we have not known or met ourselves previously I am asking for your assistance=2Ci have will be very glad if you can render me assistance to my situation now=2E I will make my proposal well known if I am given the opportunity=2E I would like to use this opportunity to introduce myself to you=2E Am Miss Johana Johnpaul 24 years old girl from Liberia =2Cthe only daughter of Late Godwin Johnpaul the  ...\n",
      "\n",
      "Cleaned email:\n",
      " dear good day hope fine cdear am writting this mail with due respect and heartful of tears since we have not known or met ourselves previously am asking for your assistance ci have will be very glad if you can render me assistance to my situation now will make my proposal well known if am given the opportunity would like to use this opportunity to introduce myself to you am miss johana johnpaul years old girl from liberia cthe only daughter of late godwin johnpaul the deputy minister of national ...\n"
     ]
    }
   ],
   "source": [
    "# Your code\n",
    "import re\n",
    "\n",
    "def clean_text(text):\n",
    "    # 1. Remove special characters (keep only letters and spaces)\n",
    "    # Reason: This removes punctuation and symbols, leaving only letters and spaces.\n",
    "    text = re.sub(r'[^a-zA-Z\\s]', ' ', text)\n",
    "    \n",
    "    # 2. Remove numbers\n",
    "    # Reason: Numbers are not needed for spam/ham classification in this lab.\n",
    "    # Although step 1 removed most digits, we include this for clarity.\n",
    "    text = re.sub(r'\\d+', '', text)\n",
    "    \n",
    "    # 3. Remove all single characters\n",
    "    # Reason: Words with a single character are usually noise ('I', 'a') and not informative.\n",
    "    words = text.split()\n",
    "    words = [w for w in words if len(w) > 1]\n",
    "    \n",
    "    # 4. Remove single characters from the start\n",
    "    # Reason: If the first word is a single character, it may have remained and should be removed.\n",
    "    if len(words) > 0 and len(words[0]) == 1:\n",
    "        words = words[1:]\n",
    "    \n",
    "    # 5. Substitute multiple spaces with a single space\n",
    "    # Reason: Joining words after removing items may create extra spaces. This ensures clean spacing.\n",
    "    text = ' '.join(words)\n",
    "    \n",
    "    # 6. Remove prefixed 'b' (like b'text')\n",
    "    # Reason: Some strings may come from byte representations; we remove a leading \"b'\" if present.\n",
    "    # In Python, a string that starts with b'...' is a byte string (type bytes), not a regular string (type str).\n",
    "    # byte_text = b'This is a sample email text.'\n",
    "    text = re.sub(r\"^b'\", '', text)\n",
    "    \n",
    "    # 7. Convert to lowercase\n",
    "    # Reason: Standardizes all text to lowercase to avoid treating \"Hello\" and \"hello\" differently.\n",
    "    text = text.lower()\n",
    "    \n",
    "    return text.strip()  # remove any leading/trailing spaces\n",
    "\n",
    "# Example usage\n",
    "# sample_email = data['text'][0]\n",
    "# cleaned_email = clean_text(sample_email)\n",
    "# print(cleaned_email[:300])  # preview first 300 characters\n",
    "\n",
    "X_train_cleaned = X_train.apply(clean_text)\n",
    "X_test_cleaned  = X_test.apply(clean_text)\n",
    "\n",
    "# Test if it worked:\n",
    "\n",
    "# Original email\n",
    "original = X_train.iloc[0]\n",
    "\n",
    "# Cleaned email\n",
    "cleaned = X_train_cleaned.iloc[0]\n",
    "\n",
    "print(\"Original email:\\n\", original[:500], \"...\")   # first 500 chars\n",
    "print(\"\\nCleaned email:\\n\", cleaned[:500], \"...\")"
   ]
  },
  {
   "cell_type": "markdown",
   "metadata": {},
   "source": [
    "### ✅ Observations\n",
    "\n",
    "1. Removed special characters\n",
    "Original had things like `=2C` and `=2E` (which are HTML or URL-encoded commas and periods).  \n",
    "Cleaned version replaced them with spaces → exactly what we wanted.\n",
    "\n",
    "2. Removed numbers\n",
    "“24 years old” in original became “years old” → the number `24` was removed.\n",
    "3. Removed single characters\n",
    "Single letters or isolated characters like “I” at the start of sentences remain in some places because the regex keeps words of length >1. This is expected.\n",
    "4. Lowercased everything\n",
    "Original had “Dear”, “Miss Johana Johnpaul” → all lowercase in cleaned version.\n",
    "5. Removed extra spaces\n",
    "Original had many `=2C` and `=2E` sequences creating extra characters; cleaned text now has single spaces between words.\n",
    "6. Prefixed `b` check\n",
    "No `b'` prefixes appear, which is fine — your data didn’t\n",
    "\n",
    "By Sofia"
   ]
  },
  {
   "cell_type": "markdown",
   "metadata": {
    "slideshow": {
     "slide_type": "-"
    }
   },
   "source": [
    "## Now let's work on removing stopwords\n",
    "Remove the stopwords."
   ]
  },
  {
   "cell_type": "code",
   "execution_count": 13,
   "metadata": {},
   "outputs": [
    {
     "name": "stdout",
     "output_type": "stream",
     "text": [
      "Before stopwords removal:\n",
      " dear good day hope fine cdear am writting this mail with due respect and heartful of tears since we have not known or met ourselves previously am asking for your assistance ci have will be very glad if you can render me assistance to my situation now will make my proposal well known if am given the \n",
      "\n",
      "After stopwords removal:\n",
      " dear good day hope fine cdear writting mail due respect heartful tears since known met previously asking assistance ci glad render assistance situation make proposal well known given opportunity would like use opportunity introduce miss johana johnpaul years old girl liberia cthe daughter late godwi\n"
     ]
    }
   ],
   "source": [
    "# Your code\n",
    "from nltk.corpus import stopwords\n",
    "# stop_words = set(stopwords.words(\"english\"))\n",
    "\n",
    "# Function to remove stopwords from ONE AND ONLY single string\n",
    "# my function has 2 arguments - NOT 1!\n",
    "# If it had 1 argument -> then later i could have called the function just by the name and it wouldn'train_test_split\n",
    "# be necessary to add the lambda in it\n",
    "# It's a thing that happens because of the pandas' function -> apply() <-\n",
    "def remove_stopwords(text, language):\n",
    "    stop_words = set(stopwords.words(language))\n",
    "    words = text.split()\n",
    "    filtered = [w for w in words if w not in stop_words]\n",
    "    return \" \".join(filtered)\n",
    "\n",
    "# Referencing remove_stopwords without the 2 input arguments its better:\n",
    "# X_train_cleaned_no_stop = X_train_cleaned.apply(remove_stopwords) because you dont need the lambda\n",
    "X_train_cleaned_no_stop = X_train_cleaned.apply(lambda x: remove_stopwords(x, \"english\"))\n",
    "X_test_cleaned_no_stop  = X_test_cleaned.apply(lambda x: remove_stopwords(x, \"english\"))\n",
    "\n",
    "# Example: show first email before and after stopwords removal\n",
    "print(\"Before stopwords removal:\\n\", X_train_cleaned.iloc[0][:300])\n",
    "print(\"\\nAfter stopwords removal:\\n\", X_train_cleaned_no_stop.iloc[0][:300])"
   ]
  },
  {
   "cell_type": "markdown",
   "metadata": {},
   "source": [
    "### 🔹 What I notice\n",
    "\n",
    "Most stopwords are removed: `am, this, we, have, not, to, my, will, if, can, me` are gone.\n",
    "\n",
    "Remaining words are more meaningful: `writting, mail, respect, assistance, proposal, johana, liberia`, etc.\n",
    "\n",
    "This is exactly what you want for NLP modeling, because the text now focuses on the important content words.\n",
    "\n",
    "By Sofia"
   ]
  },
  {
   "cell_type": "markdown",
   "metadata": {},
   "source": [
    "## Tame Your Text with Lemmatization\n",
    "Break sentences into words, then use lemmatization to reduce them to their base form (e.g., \"running\" becomes \"run\"). See how this creates cleaner data for analysis!"
   ]
  },
  {
   "cell_type": "code",
   "execution_count": 17,
   "metadata": {},
   "outputs": [
    {
     "name": "stderr",
     "output_type": "stream",
     "text": [
      "[nltk_data] Downloading package wordnet to\n",
      "[nltk_data]     /Users/sofiazogkza/nltk_data...\n",
      "[nltk_data]   Package wordnet is already up-to-date!\n",
      "[nltk_data] Downloading package omw-1.4 to\n",
      "[nltk_data]     /Users/sofiazogkza/nltk_data...\n",
      "[nltk_data]   Package omw-1.4 is already up-to-date!\n",
      "[nltk_data] Downloading package averaged_perceptron_tagger to\n",
      "[nltk_data]     /Users/sofiazogkza/nltk_data...\n",
      "[nltk_data]   Package averaged_perceptron_tagger is already up-to-\n",
      "[nltk_data]       date!\n",
      "[nltk_data] Downloading package averaged_perceptron_tagger_eng to\n",
      "[nltk_data]     /Users/sofiazogkza/nltk_data...\n",
      "[nltk_data]   Unzipping taggers/averaged_perceptron_tagger_eng.zip.\n"
     ]
    },
    {
     "data": {
      "text/plain": [
       "True"
      ]
     },
     "execution_count": 17,
     "metadata": {},
     "output_type": "execute_result"
    }
   ],
   "source": [
    "import nltk\n",
    "\n",
    "nltk.download('wordnet')\n",
    "nltk.download('omw-1.4')\n",
    "nltk.download('averaged_perceptron_tagger')\n",
    "nltk.download('averaged_perceptron_tagger_eng')\n"
   ]
  },
  {
   "cell_type": "code",
   "execution_count": 18,
   "metadata": {},
   "outputs": [
    {
     "name": "stdout",
     "output_type": "stream",
     "text": [
      "Before lemmatization:\n",
      " dear good day hope fine cdear writting mail due respect heartful tears since known met previously asking assistance ci glad render assistance situation make proposal well known given opportunity would like use opportunity introduce miss johana johnpaul years old girl liberia cthe daughter late godwi\n",
      "\n",
      "After lemmatization:\n",
      " dear good day hope fine cdear writting mail due respect heartful tear since know met previously ask assistance ci glad render assistance situation make proposal well know give opportunity would like use opportunity introduce miss johana johnpaul year old girl liberia cthe daughter late godwin johnpa\n"
     ]
    }
   ],
   "source": [
    "# import nltk\n",
    "\n",
    "# # Downloads inside the venv folder\n",
    "# nltk.download('wordnet', download_dir='./nltk_data')\n",
    "# nltk.download('omw-1.4', download_dir='./nltk_data')\n",
    "# nltk.download('averaged_perceptron_tagger', download_dir='./nltk_data')\n",
    "\n",
    "# Tell NLTK to look in this folder\n",
    "nltk.data.path.append('./nltk_data')\n",
    "from nltk.stem import WordNetLemmatizer\n",
    "from nltk.corpus import wordnet\n",
    "\n",
    "lemmatizer = WordNetLemmatizer()\n",
    "\n",
    "# POS helper function\n",
    "def get_wordnet_pos(word):\n",
    "    \"\"\"Map NLTK POS tag to WordNet POS tag\"\"\"\n",
    "    tag = nltk.pos_tag([word])[0][1][0].upper()  # first letter of POS tag\n",
    "    tag_dict = {\"J\": wordnet.ADJ,\n",
    "                \"N\": wordnet.NOUN,\n",
    "                \"V\": wordnet.VERB,\n",
    "                \"R\": wordnet.ADV}\n",
    "    return tag_dict.get(tag, wordnet.NOUN)  # default to noun\n",
    "\n",
    "# Function to lemmatize a single string\n",
    "def lemmatize_text(text):\n",
    "    words = text.split()  # split string into words\n",
    "    lemmatized_words = [lemmatizer.lemmatize(w, get_wordnet_pos(w)) for w in words]\n",
    "    return \" \".join(lemmatized_words)\n",
    "\n",
    "# Apply to your Series\n",
    "X_train_lemmatized = X_train_cleaned_no_stop.apply(lemmatize_text)\n",
    "X_test_lemmatized  = X_test_cleaned_no_stop.apply(lemmatize_text)\n",
    "\n",
    "# Example: show first email\n",
    "print(\"Before lemmatization:\\n\", X_train_cleaned_no_stop.iloc[0][:300])\n",
    "print(\"\\nAfter lemmatization:\\n\", X_train_lemmatized.iloc[0][:300])\n"
   ]
  },
  {
   "cell_type": "markdown",
   "metadata": {},
   "source": [
    "### 🔹 What I notice\n",
    "\n",
    "Words like `tears → tear, known → know, asking → ask, years → year` are normalized.\n",
    "\n",
    "The `averaged_perceptron_tagger_eng` dataset fixed the LookupError for POS tagging."
   ]
  },
  {
   "cell_type": "markdown",
   "metadata": {},
   "source": [
    "## Bag Of Words\n",
    "Let's get the 10 top words in ham and spam messages (**EXPLORATORY DATA ANALYSIS**)"
   ]
  },
  {
   "cell_type": "code",
   "execution_count": null,
   "metadata": {},
   "outputs": [
    {
     "name": "stdout",
     "output_type": "stream",
     "text": [
      "442    1\n",
      "962    1\n",
      "971    0\n",
      "190    1\n",
      "551    1\n",
      "Name: label, dtype: int64\n"
     ]
    }
   ],
   "source": [
    "# Check the labels of y_train\n",
    "print(y_train.head())"
   ]
  },
  {
   "cell_type": "code",
   "execution_count": null,
   "metadata": {},
   "outputs": [
    {
     "name": "stdout",
     "output_type": "stream",
     "text": [
      "Top 10 words in SPAM messages:\n",
      "           word  count\n",
      "0           br    876\n",
      "1        money    761\n",
      "2      account    674\n",
      "3         bank    616\n",
      "4         fund    604\n",
      "5  transaction    435\n",
      "6     transfer    435\n",
      "7     business    412\n",
      "8      country    401\n",
      "9         nbsp    387\n",
      "\n",
      "Top 10 words in HAM messages:\n",
      "         word  count\n",
      "0      state    122\n",
      "1       work     97\n",
      "2        say     96\n",
      "3  president     95\n",
      "4       call     94\n",
      "5      would     92\n",
      "6         mr     90\n",
      "7      obama     80\n",
      "8    percent     80\n",
      "9        get     77\n"
     ]
    }
   ],
   "source": [
    "from sklearn.feature_extraction.text import CountVectorizer\n",
    "import pandas as pd\n",
    "\n",
    "# Separate ham and spam messages\n",
    "spam_messages = X_train_lemmatized[y_train == 1]\n",
    "ham_messages  = X_train_lemmatized[y_train == 0]\n",
    "\n",
    "# Function to get top N words\n",
    "def get_top_words(messages, n=10):\n",
    "    vectorizer = CountVectorizer() # creates a Bag-of-Words model\n",
    "    X_counts = vectorizer.fit_transform(messages) # fits the vectorizer to the messages (learns vocabulary) and transforms the text into a sparse matrix of word counts.\n",
    "    word_counts = X_counts.sum(axis=0)  # sums the occurrences of each word across all messages. -> Result is a matrix of shape (1, num_words) showing total counts per word.\n",
    "    words_freq = [(word, word_counts[0, idx]) for word, idx in vectorizer.vocabulary_.items()]\n",
    "    words_freq = sorted(words_freq, key=lambda x: x[1], reverse=True) # sorting - most frequent words are in the beginning\n",
    "    return pd.DataFrame(words_freq[:n], columns=['word', 'count']) # Take the top n words (words_freq[:n]). - Convert it into a pandas DataFrame with columns word and count for easy display.\n",
    "\n",
    "# Top 10 words in spam\n",
    "top_spam_words = get_top_words(spam_messages, n=10)\n",
    "print(\"Top 10 words in SPAM messages:\\n\", top_spam_words)\n",
    "\n",
    "# Top 10 words in ham\n",
    "top_ham_words = get_top_words(ham_messages, n=10)\n",
    "print(\"\\nTop 10 words in HAM messages:\\n\", top_ham_words)\n"
   ]
  },
  {
   "cell_type": "markdown",
   "metadata": {},
   "source": [
    "### 🔹 What I notice\n",
    "\n",
    "\n",
    "- `CountVectorizer`: A class from `scikit-learn` that converts a collection of text documents into a matrix of token counts (Bag of Words). Each row is a document, each column is a word, and the value is the number of times that word appears in the document.\n",
    "\n",
    "- `pandas`: For creating and handling the final **dataframe** of top words.\n",
    "\n",
    "- `vectorizer.vocabulary_` is a dictionary mapping each word to its column index in the matrix.\n",
    "\n",
    "- We use a **list comprehension** to create a list of tuples (word, total_count) for all words.\n",
    "\n",
    "- Sorts the list of (word, count) tuples by count in descending order. This way, the most frequent words are first.\n",
    "\n",
    "### Observations\n",
    "\n",
    "- `br` and `nbsp` are leftovers from HTML or email formatting (<br> for line break, &nbsp; for non-breaking space) – this happens sometimes if text cleaning didn’t remove all HTML entities.\n",
    "\n",
    "- These words clearly indicate the topic of spam emails, mostly related to finance, scams, or transactions.\n",
    "\n",
    "- TODO: Clean further OR change the `clean_email_from_html_code`"
   ]
  },
  {
   "cell_type": "markdown",
   "metadata": {},
   "source": [
    "## Extra features"
   ]
  },
  {
   "cell_type": "markdown",
   "metadata": {},
   "source": [
    "By Sofia:\n",
    "\n",
    "So that the cpde below runs successfully i create the exact below code block:\n",
    "\n"
   ]
  },
  {
   "cell_type": "code",
   "execution_count": 24,
   "metadata": {},
   "outputs": [],
   "source": [
    "# Create a DataFrame combining X_train and y_train\n",
    "import pandas as pd\n",
    "\n",
    "data_train = pd.DataFrame({\n",
    "    'preprocessed_text': X_train_lemmatized,  # or X_train_cleaned_no_stop if you didn't lemmatize yet\n",
    "    'label': y_train\n",
    "})\n",
    "\n",
    "data_val = pd.DataFrame({\n",
    "    'preprocessed_text': X_test_lemmatized,  # or X_test_cleaned_no_stop\n",
    "    'label': y_test\n",
    "})\n"
   ]
  },
  {
   "cell_type": "code",
   "execution_count": 25,
   "metadata": {},
   "outputs": [
    {
     "data": {
      "text/html": [
       "<div>\n",
       "<style scoped>\n",
       "    .dataframe tbody tr th:only-of-type {\n",
       "        vertical-align: middle;\n",
       "    }\n",
       "\n",
       "    .dataframe tbody tr th {\n",
       "        vertical-align: top;\n",
       "    }\n",
       "\n",
       "    .dataframe thead th {\n",
       "        text-align: right;\n",
       "    }\n",
       "</style>\n",
       "<table border=\"1\" class=\"dataframe\">\n",
       "  <thead>\n",
       "    <tr style=\"text-align: right;\">\n",
       "      <th></th>\n",
       "      <th>preprocessed_text</th>\n",
       "      <th>label</th>\n",
       "      <th>money_mark</th>\n",
       "      <th>suspicious_words</th>\n",
       "      <th>text_len</th>\n",
       "    </tr>\n",
       "  </thead>\n",
       "  <tbody>\n",
       "    <tr>\n",
       "      <th>442</th>\n",
       "      <td>dear good day hope fine cdear writting mail du...</td>\n",
       "      <td>1</td>\n",
       "      <td>1</td>\n",
       "      <td>1</td>\n",
       "      <td>975</td>\n",
       "    </tr>\n",
       "    <tr>\n",
       "      <th>962</th>\n",
       "      <td>mr henry kaborethe chief auditor inchargeforei...</td>\n",
       "      <td>1</td>\n",
       "      <td>0</td>\n",
       "      <td>1</td>\n",
       "      <td>1911</td>\n",
       "    </tr>\n",
       "    <tr>\n",
       "      <th>971</th>\n",
       "      <td></td>\n",
       "      <td>0</td>\n",
       "      <td>0</td>\n",
       "      <td>0</td>\n",
       "      <td>0</td>\n",
       "    </tr>\n",
       "    <tr>\n",
       "      <th>190</th>\n",
       "      <td>desk dr adamu ismalerauditing accounting manag...</td>\n",
       "      <td>1</td>\n",
       "      <td>1</td>\n",
       "      <td>1</td>\n",
       "      <td>375</td>\n",
       "    </tr>\n",
       "    <tr>\n",
       "      <th>551</th>\n",
       "      <td>dear friend name loi estrada wife mr josephest...</td>\n",
       "      <td>1</td>\n",
       "      <td>1</td>\n",
       "      <td>1</td>\n",
       "      <td>1450</td>\n",
       "    </tr>\n",
       "  </tbody>\n",
       "</table>\n",
       "</div>"
      ],
      "text/plain": [
       "                                     preprocessed_text  label  money_mark  \\\n",
       "442  dear good day hope fine cdear writting mail du...      1           1   \n",
       "962  mr henry kaborethe chief auditor inchargeforei...      1           0   \n",
       "971                                                         0           0   \n",
       "190  desk dr adamu ismalerauditing accounting manag...      1           1   \n",
       "551  dear friend name loi estrada wife mr josephest...      1           1   \n",
       "\n",
       "     suspicious_words  text_len  \n",
       "442                 1       975  \n",
       "962                 1      1911  \n",
       "971                 0         0  \n",
       "190                 1       375  \n",
       "551                 1      1450  "
      ]
     },
     "execution_count": 25,
     "metadata": {},
     "output_type": "execute_result"
    }
   ],
   "source": [
    "# We add to the original dataframe two additional indicators (money symbols and suspicious words).\n",
    "money_simbol_list = \"|\".join([\"euro\",\"dollar\",\"pound\",\"€\",r\"\\$\"])\n",
    "suspicious_words = \"|\".join([\"free\",\"cheap\",\"sex\",\"money\",\"account\",\"bank\",\"fund\",\"transfer\",\"transaction\",\"win\",\"deposit\",\"password\"])\n",
    "\n",
    "data_train['money_mark'] = data_train['preprocessed_text'].str.contains(money_simbol_list)*1\n",
    "data_train['suspicious_words'] = data_train['preprocessed_text'].str.contains(suspicious_words)*1\n",
    "data_train['text_len'] = data_train['preprocessed_text'].apply(lambda x: len(x)) \n",
    "\n",
    "data_val['money_mark'] = data_val['preprocessed_text'].str.contains(money_simbol_list)*1\n",
    "data_val['suspicious_words'] = data_val['preprocessed_text'].str.contains(suspicious_words)*1\n",
    "data_val['text_len'] = data_val['preprocessed_text'].apply(lambda x: len(x)) \n",
    "\n",
    "data_train.head()"
   ]
  },
  {
   "cell_type": "markdown",
   "metadata": {},
   "source": [
    "## How would work the Bag of Words with Count Vectorizer concept?"
   ]
  },
  {
   "cell_type": "code",
   "execution_count": 26,
   "metadata": {},
   "outputs": [
    {
     "name": "stdout",
     "output_type": "stream",
     "text": [
      "Vocabulary size: 27411\n"
     ]
    }
   ],
   "source": [
    "# Your code\n",
    "from sklearn.feature_extraction.text import CountVectorizer\n",
    "\n",
    "# Initialize CountVectorizer\n",
    "vectorizer = CountVectorizer()\n",
    "\n",
    "# Fit and transform the training text\n",
    "X_train_bow = vectorizer.fit_transform(data_train['preprocessed_text'])\n",
    "\n",
    "# Transform the validation text\n",
    "X_val_bow = vectorizer.transform(data_val['preprocessed_text'])\n",
    "\n",
    "print(\"Vocabulary size:\", len(vectorizer.vocabulary_))\n"
   ]
  },
  {
   "cell_type": "markdown",
   "metadata": {},
   "source": [
    "`doc1: \"I love money\"`\n",
    "\n",
    "`doc2: \"I love free stuff\"`\n",
    "\n",
    "Vocabulary: [\"I\", \"love\", \"money\", \"free\", \"stuff\"]\n",
    "\n",
    "BoW representation (word counts):\n",
    "\n",
    "|      | I | love | money | free | stuff |\n",
    "| ---- | - | ---- | ----- | ---- | ----- |\n",
    "| doc1 | 1 | 1    | 1     | 0    | 0     |\n",
    "| doc2 | 1 | 1    | 0     | 1    | 1     |\n",
    "\n",
    "\n",
    "By Sofia"
   ]
  },
  {
   "cell_type": "markdown",
   "metadata": {},
   "source": [
    "## TF-IDF\n",
    "\n",
    "- Load the vectorizer\n",
    "\n",
    "- Vectorize all dataset\n",
    "\n",
    "- print the shape of the vetorized dataset"
   ]
  },
  {
   "cell_type": "code",
   "execution_count": 31,
   "metadata": {},
   "outputs": [
    {
     "name": "stdout",
     "output_type": "stream",
     "text": [
      "Shape of TF-IDF training matrix: (800, 5000)\n",
      "Shape of TF-IDF validation matrix: (200, 5000)\n"
     ]
    }
   ],
   "source": [
    "# Your code\n",
    "from sklearn.feature_extraction.text import TfidfVectorizer\n",
    "\n",
    "# 1. Initialize TF-IDF vectorizer\n",
    "tfidf_vectorizer = TfidfVectorizer(max_features=5000)  # you can limit features if needed\n",
    "\n",
    "# 2. Fit on training data and transform both train and validation sets\n",
    "X_train_tfidf = tfidf_vectorizer.fit_transform(data_train['preprocessed_text']) # learns the vocabulary from the training set and converts text into a TF-IDF weighted sparse matrix.\n",
    "X_test_tfidf   = tfidf_vectorizer.transform(data_val['preprocessed_text']) # converts validation (or test) data into the same TF-IDF representation using the same vocabulary.\n",
    "\n",
    "# 3. Print the shape of the vectorized datasets\n",
    "print(\"Shape of TF-IDF training matrix:\", X_train_tfidf.shape)\n",
    "print(\"Shape of TF-IDF validation matrix:\", X_test_tfidf.shape)\n"
   ]
  },
  {
   "cell_type": "markdown",
   "metadata": {},
   "source": [
    "## And the Train a Classifier?"
   ]
  },
  {
   "cell_type": "code",
   "execution_count": null,
   "metadata": {},
   "outputs": [
    {
     "name": "stdout",
     "output_type": "stream",
     "text": [
      "Accuracy: 0.99\n",
      "\n",
      "Classification report:\n",
      "               precision    recall  f1-score   support\n",
      "\n",
      "           0       1.00      0.98      0.99       112\n",
      "           1       0.98      1.00      0.99        88\n",
      "\n",
      "    accuracy                           0.99       200\n",
      "   macro avg       0.99      0.99      0.99       200\n",
      "weighted avg       0.99      0.99      0.99       200\n",
      "\n",
      "Confusion Matrix:\n",
      " [[110   2]\n",
      " [  0  88]]\n"
     ]
    },
    {
     "data": {
      "image/png": "[encoded data removed]",
      "text/plain": [
       "<Figure size 640x480 with 2 Axes>"
      ]
     },
     "metadata": {},
     "output_type": "display_data"
    }
   ],
   "source": [
    "from sklearn.naive_bayes import MultinomialNB\n",
    "from sklearn.metrics import accuracy_score, classification_report, ConfusionMatrixDisplay\n",
    "from sklearn.metrics import confusion_matrix, roc_auc_score, RocCurveDisplay\n",
    "import matplotlib.pyplot as plt\n",
    "\n",
    "\n",
    "\n",
    "# Train the classifier\n",
    "clf = MultinomialNB()\n",
    "clf.fit(X_train_tfidf, y_train)\n",
    "\n",
    "# Predict on test set\n",
    "y_pred = clf.predict(X_test_tfidf)\n",
    "\n",
    "# Evaluate\n",
    "print(\"Accuracy:\", accuracy_score(y_test, y_pred))\n",
    "print(\"\\nClassification report:\\n\", classification_report(y_test, y_pred))\n",
    "# Metric\tMeaning\n",
    "# Precision\tOut of all emails predicted as spam (or ham), how many were actually correct.\n",
    "# Recall\tOut of all actual spam (or ham) emails, how many the model correctly found.\n",
    "# F1-score\tBalance between precision and recall (a harmonic mean).\n",
    "# Support\tNumber of actual samples for each label.\n",
    "\n",
    "# Confusion Matrix\n",
    "cm = confusion_matrix(y_test, y_pred)\n",
    "print(\"Confusion Matrix:\\n\", cm)\n",
    "# 110 ham emails correctly predicted as ham ✅\n",
    "# 2 ham emails incorrectly predicted as spam ❌\n",
    "# 0 spam emails misclassified as ham (great!) ✅\n",
    "# 88 spam emails correctly predicted as spam ✅\n",
    "\n",
    "# Confusion matrix\n",
    "ConfusionMatrixDisplay.from_estimator(clf, X_test_tfidf, y_test, cmap='Blues')\n",
    "plt.title(\"Confusion Matrix\")\n",
    "plt.show()"
   ]
  },
  {
   "cell_type": "markdown",
   "metadata": {},
   "source": [
    "### Tried also **TextBlob Naive Bayes classifier**"
   ]
  },
  {
   "cell_type": "code",
   "execution_count": 41,
   "metadata": {},
   "outputs": [
    {
     "name": "stdout",
     "output_type": "stream",
     "text": [
      "TextBlob Naive Bayes accuracy: 0.92\n",
      "Most Informative Features\n",
      "        contains(dollar) = True                1 : 0      =    157.4 : 1.0\n",
      "          contains(bank) = True                1 : 0      =     90.9 : 1.0\n",
      "       contains(hundred) = True                1 : 0      =     86.9 : 1.0\n",
      "      contains(transfer) = True                1 : 0      =     85.9 : 1.0\n",
      "         contains(money) = True                1 : 0      =     82.6 : 1.0\n",
      "          contains(five) = True                1 : 0      =     81.8 : 1.0\n",
      "          contains(fund) = True                1 : 0      =     80.8 : 1.0\n",
      "  contains(confidential) = True                1 : 0      =     72.6 : 1.0\n",
      "    contains(assistance) = True                1 : 0      =     71.3 : 1.0\n",
      "        contains(invest) = True                1 : 0      =     68.4 : 1.0\n",
      "\n",
      "Classification report:\n",
      "               precision    recall  f1-score   support\n",
      "\n",
      "           0       0.88      0.99      0.93       112\n",
      "           1       0.99      0.83      0.90        88\n",
      "\n",
      "    accuracy                           0.92       200\n",
      "   macro avg       0.93      0.91      0.92       200\n",
      "weighted avg       0.93      0.92      0.92       200\n",
      "\n",
      "Confusion Matrix:\n",
      " [[111   1]\n",
      " [ 15  73]]\n"
     ]
    },
    {
     "data": {
      "image/png": "[encoded data removed]",
      "text/plain": [
       "<Figure size 640x480 with 2 Axes>"
      ]
     },
     "metadata": {},
     "output_type": "display_data"
    }
   ],
   "source": [
    "from textblob.classifiers import NaiveBayesClassifier\n",
    "\n",
    "# Prepare training data\n",
    "train_data_tb = [(text, str(label)) for text, label in zip(X_train_lemmatized, y_train)]\n",
    "test_data_tb  = [(text, str(label)) for text, label in zip(X_test_lemmatized, y_test)]\n",
    "\n",
    "# Train TextBlob Naive Bayes\n",
    "cl_tb = NaiveBayesClassifier(train_data_tb)\n",
    "\n",
    "# Evaluate on test data\n",
    "#Accuracy\n",
    "accuracy = cl_tb.accuracy(test_data_tb)\n",
    "print(\"TextBlob Naive Bayes accuracy:\", accuracy)\n",
    "\n",
    "# Optional: show most informative features\n",
    "cl_tb.show_informative_features(10)\n",
    "\n",
    "# Convert y_test to integers\n",
    "y_test_int = [int(label) for label in y_test]\n",
    "\n",
    "# Get predictions from TextBlob Naive Bayes\n",
    "y_pred_tb = [int(cl_tb.classify(text)) for text, _ in test_data_tb]\n",
    "\n",
    "\n",
    "# Classification report\n",
    "print(\"\\nClassification report:\\n\", classification_report(y_test_int, y_pred_tb))\n",
    "\n",
    "# Confusion matrix\n",
    "cm = confusion_matrix(y_test_int, y_pred_tb)\n",
    "print(\"Confusion Matrix:\\n\", cm)\n",
    "\n",
    "# Plot confusion matrix\n",
    "ConfusionMatrixDisplay.from_predictions(y_test_int, y_pred_tb, cmap='Blues')\n",
    "plt.title(\"Confusion Matrix - TextBlob Naive Bayes\")\n",
    "plt.show()\n"
   ]
  },
  {
   "cell_type": "markdown",
   "metadata": {},
   "source": [
    "### 🔹 What I notice\n",
    "\n",
    "SOS : Unlike `Scikit-learn’s Naive Bayes`, `TextBlob Naive Bayes` works directly on **strings**, not numeric vectors.\n",
    "      Therefore you cannot use `Bag of Words (CountVectorizer)` or `TF-IDF` with `TextBlob’s Naive Bayes`\n",
    "\n",
    "These are the words most indicative of spam (1) vs ham (0).\n",
    "\n",
    "- For example, if an email contains `\"dollar\", it’s 157 times more likely to be spam than ham in your training data.\n",
    "\n",
    "- Words like `\"bank\", \"money\", \"transfer\", \"fund\"` are also strong spam indicators.\n",
    "\n",
    "**This is one advantage of TextBlob: it gives you interpretable features directly.**"
   ]
  },
  {
   "cell_type": "markdown",
   "metadata": {},
   "source": [
    "### Extra Task - Implement a SPAM/HAM classifier\n",
    "\n",
    "https://www.kaggle.com/t/b384e34013d54d238490103bc3c360ce\n",
    "\n",
    "The classifier can not be changed!!! It must be the MultinimialNB with default parameters!\n",
    "\n",
    "Your task is to **find the most relevant features**.\n",
    "\n",
    "For example, you can test the following options and check which of them performs better:\n",
    "- Using \"Bag of Words\" only\n",
    "- Using \"TF-IDF\" only\n",
    "- Bag of Words + extra flags (money_mark, suspicious_words, text_len)\n",
    "- TF-IDF + extra flags\n",
    "\n",
    "\n",
    "You can work with teams of two persons (recommended)."
   ]
  },
  {
   "cell_type": "code",
   "execution_count": null,
   "metadata": {},
   "outputs": [],
   "source": [
    "# Your code"
   ]
  }
 ],
 "metadata": {
  "celltoolbar": "Slideshow",
  "kernelspec": {
   "display_name": "venvsofia2",
   "language": "python",
   "name": "python3"
  },
  "language_info": {
   "codemirror_mode": {
    "name": "ipython",
    "version": 3
   },
   "file_extension": ".py",
   "mimetype": "text/x-python",
   "name": "python",
   "nbconvert_exporter": "python",
   "pygments_lexer": "ipython3",
   "version": "3.13.5"
  }
 },
 "nbformat": 4,
 "nbformat_minor": 4
}
